{
 "cells": [
  {
   "cell_type": "code",
   "execution_count": 10,
   "metadata": {},
   "outputs": [],
   "source": [
    "import pandas as pd\n",
    "import numpy as np\n",
    "\n",
    "from make_multiplot import get_multiplot_dimensions\n",
    "# from plot_feature_stability_plotly import plot_feature_stability"
   ]
  },
  {
   "cell_type": "code",
   "execution_count": 15,
   "metadata": {},
   "outputs": [],
   "source": [
    "import plotly.graph_objects as go\n",
    "from plotly.subplots import make_subplots\n",
    "\n",
    "\n",
    "\n",
    "def plot_feature_stability(\n",
    "    df: pd.DataFrame,\n",
    "    features: list[str],\n",
    "    fig_width: float = 16,\n",
    "    fig_height: float = 9,\n",
    ") -> go.Figure:\n",
    "    \"\"\"Generates stability plots for a list of specified features from provided DataFrame.\n",
    "\n",
    "    :param df: The input pandas DataFrame from which data is to be plotted.\n",
    "        Must contain 'ReportDate' column and all features listed in the next parameter.\n",
    "    :param features: The list of the features for which the plots will be generated.\n",
    "    :param fig_width: The width of the figure in inches. Defaults to 16.\n",
    "    :param fig_height: The height of the figure in inches. Defaults to 9.\n",
    "    :return: Plotly Figure.\n",
    "    \"\"\"\n",
    "    if \"ReportDate\" not in df.columns:\n",
    "        msg = \"The DataFrame must contain 'ReportDate' column.\"\n",
    "        raise KeyError(msg)\n",
    "    for f in features:\n",
    "        if f not in df.columns:\n",
    "            msg = f\"The DataFrame must contain '{f}' column.\"\n",
    "            raise KeyError(msg)\n",
    "    df_modelling = df.copy()\n",
    "    df_modelling[\"ReportDate\"] = pd.to_datetime(df_modelling[\"ReportDate\"])\n",
    "    df_modelling[\"DateMonth\"] = df_modelling[\"ReportDate\"].dt.to_period(\"M\")\n",
    "    df_modelling = df_modelling[[\"DateMonth\", *features]]\n",
    "\n",
    "    # Create bins for each numerical feature based on ranks\n",
    "    for feature in features:\n",
    "        ranks = df_modelling[feature].rank(method=\"first\")\n",
    "        quantile_edges = ranks.quantile([0, 0.25, 0.5, 0.75, 1]).unique()\n",
    "        bins = np.concatenate(([-np.inf], quantile_edges[1:-1], [np.inf]))\n",
    "        labels = [\"25\", \"50\", \"75\", \"100\"][: len(bins) - 1]\n",
    "        df_modelling[\"BIN_\" + feature] = pd.cut(\n",
    "            ranks,\n",
    "            bins=bins,\n",
    "            labels=labels,\n",
    "            include_lowest=True,\n",
    "        )\n",
    "\n",
    "    n_cols, n_rows, fig_width, fig_height = get_multiplot_dimensions(\n",
    "        len(features),\n",
    "        fig_width,\n",
    "        fig_height,\n",
    "    )\n",
    "    fig = make_subplots(rows=n_rows, cols=n_cols, subplot_titles=features)\n",
    "    fig.update_layout(title_text=\"Feature Stability Plots\", height=fig_height*100, width=fig_width*100)\n",
    "\n",
    "    # Define consistent color palette\n",
    "    colors = ['#1f77b4', '#ff7f0e', '#2ca02c', '#d62728']\n",
    "    \n",
    "    # Plot each feature\n",
    "    for i, feature in enumerate(features):\n",
    "        data = df_modelling.groupby(\"DateMonth\")[\"BIN_\" + feature].value_counts(normalize=True)\n",
    "        data = data.unstack(level=\"BIN_\" + feature).fillna(0)\n",
    "        \n",
    "        for j, bin_label in enumerate(data.columns):\n",
    "            fig.add_trace(\n",
    "                go.Bar(\n",
    "                    x=data.index.astype(str),\n",
    "                    y=data[bin_label],\n",
    "                    name=bin_label,\n",
    "                    marker_color=colors[j],\n",
    "                    showlegend=i == 0  # Show legend only for the first subplot\n",
    "                ),\n",
    "                row=(i // n_cols) + 1,\n",
    "                col=(i % n_cols) + 1\n",
    "            )\n",
    "    \n",
    "    fig.update_xaxes(tickangle=90)\n",
    "    fig.update_yaxes(title_text=\"Proportion\")\n",
    "    fig.update_layout(barmode='stack', legend_title_text=\"Quartile\")\n",
    "\n",
    "    return fig\n"
   ]
  },
  {
   "cell_type": "code",
   "execution_count": 16,
   "metadata": {},
   "outputs": [],
   "source": [
    "date_range = pd.date_range(start='2024-01-01', end='2024-12-31', freq='D')\n",
    "feature_values = np.random.randint(0, 101, size=(len(date_range), 10))\n",
    "feature_names = [f'Feature{i}' for i in range(10)]\n",
    "df = pd.DataFrame(\n",
    "    columns=feature_names, \n",
    "    data=feature_values\n",
    ")\n",
    "df['ReportDate'] = date_range"
   ]
  },
  {
   "cell_type": "code",
   "execution_count": 17,
   "metadata": {},
   "outputs": [
    {
     "data": {
      "application/vnd.plotly.v1+json": {
       "config": {
        "plotlyServerURL": "https://plot.ly"
       },
       "data": [
        {
         "marker": {
          "color": "#1f77b4"
         },
         "name": "25",
         "showlegend": true,
         "type": "bar",
         "x": [
          "2024-01",
          "2024-02",
          "2024-03",
          "2024-04",
          "2024-05",
          "2024-06",
          "2024-07",
          "2024-08",
          "2024-09",
          "2024-10",
          "2024-11",
          "2024-12"
         ],
         "xaxis": "x",
         "y": {
          "bdata": "hBBCCCGE0D9huacRlnvKP5VSSimllNI/mpmZmZmZ2T+llFJKKaXEPxEREREREdE/11prrbXW2j+llFJKKaXEP5qZmZmZmck/55xzzjnnzD8zMzMzMzPTP4QQQgghhMA/",
          "dtype": "f8"
         },
         "yaxis": "y"
        },
        {
         "marker": {
          "color": "#ff7f0e"
         },
         "name": "50",
         "showlegend": true,
         "type": "bar",
         "x": [
          "2024-01",
          "2024-02",
          "2024-03",
          "2024-04",
          "2024-05",
          "2024-06",
          "2024-07",
          "2024-08",
          "2024-09",
          "2024-10",
          "2024-11",
          "2024-12"
         ],
         "xaxis": "x",
         "y": {
          "bdata": "hBBCCCGE0D98GmG5pxHWP8YYY4wxxrg/3t3d3d3dzT+VUkoppZTSP97d3d3d3c0/xhhjjDHGyD+llFJKKaXEPxEREREREdE/pZRSSiml1D9VVVVVVVXVP4QQQgghhNA/",
          "dtype": "f8"
         },
         "yaxis": "y"
        },
        {
         "marker": {
          "color": "#2ca02c"
         },
         "name": "75",
         "showlegend": true,
         "type": "bar",
         "x": [
          "2024-01",
          "2024-02",
          "2024-03",
          "2024-04",
          "2024-05",
          "2024-06",
          "2024-07",
          "2024-08",
          "2024-09",
          "2024-10",
          "2024-11",
          "2024-12"
         ],
         "xaxis": "x",
         "y": {
          "bdata": "55xzzjnnzD+WexphuafRP+ecc84558w/VVVVVVVVxT+llFJKKaXUP97d3d3d3c0/pZRSSimlxD+VUkoppZTSP97d3d3d3c0/hBBCCCGE0D+amZmZmZnJP8YYY4wxxtg/",
          "dtype": "f8"
         },
         "yaxis": "y"
        },
        {
         "marker": {
          "color": "#d62728"
         },
         "name": "100",
         "showlegend": true,
         "type": "bar",
         "x": [
          "2024-01",
          "2024-02",
          "2024-03",
          "2024-04",
          "2024-05",
          "2024-06",
          "2024-07",
          "2024-08",
          "2024-09",
          "2024-10",
          "2024-11",
          "2024-12"
         ],
         "xaxis": "x",
         "y": {
          "bdata": "hBBCCCGE0D98GmG5pxHGP8YYY4wxxtg/mpmZmZmZyT/nnHPOOefMPxEREREREdE/55xzzjnnzD/GGGOMMcbYPzMzMzMzM9M/xhhjjDHGyD9VVVVVVVXFP+ecc84558w/",
          "dtype": "f8"
         },
         "yaxis": "y"
        },
        {
         "marker": {
          "color": "#1f77b4"
         },
         "name": "25",
         "showlegend": false,
         "type": "bar",
         "x": [
          "2024-01",
          "2024-02",
          "2024-03",
          "2024-04",
          "2024-05",
          "2024-06",
          "2024-07",
          "2024-08",
          "2024-09",
          "2024-10",
          "2024-11",
          "2024-12"
         ],
         "xaxis": "x2",
         "y": {
          "bdata": "55xzzjnnzD98GmG5pxHGP4QQQgghhNA/VVVVVVVV1T+EEEIIIYTQPxEREREREbE/lVJKKaWU0j/XWmuttdbaP97d3d3d3c0/55xzzjnnzD8zMzMzMzPTP+ecc84558w/",
          "dtype": "f8"
         },
         "yaxis": "y2"
        },
        {
         "marker": {
          "color": "#ff7f0e"
         },
         "name": "50",
         "showlegend": false,
         "type": "bar",
         "x": [
          "2024-01",
          "2024-02",
          "2024-03",
          "2024-04",
          "2024-05",
          "2024-06",
          "2024-07",
          "2024-08",
          "2024-09",
          "2024-10",
          "2024-11",
          "2024-12"
         ],
         "xaxis": "x2",
         "y": {
          "bdata": "hBBCCCGE0D9huacRlnvaP6WUUkoppdQ/VVVVVVVVxT+EEEIIIYTAP5qZmZmZmdk/hBBCCCGE0D/GGGOMMcbIP1VVVVVVVdU/hBBCCCGEwD/e3d3d3d3NP6WUUkoppcQ/",
          "dtype": "f8"
         },
         "yaxis": "y2"
        },
        {
         "marker": {
          "color": "#2ca02c"
         },
         "name": "75",
         "showlegend": false,
         "type": "bar",
         "x": [
          "2024-01",
          "2024-02",
          "2024-03",
          "2024-04",
          "2024-05",
          "2024-06",
          "2024-07",
          "2024-08",
          "2024-09",
          "2024-10",
          "2024-11",
          "2024-12"
         ],
         "xaxis": "x2",
         "y": {
          "bdata": "ttZaa6211j9HWO5phOXOP+ecc84558w/3t3d3d3dzT+llFJKKaXEPzMzMzMzM9M/xhhjjDHGuD/GGGOMMcbIPxEREREREdE/pZRSSiml1D9VVVVVVVXVP4QQQgghhNA/",
          "dtype": "f8"
         },
         "yaxis": "y2"
        },
        {
         "marker": {
          "color": "#d62728"
         },
         "name": "100",
         "showlegend": false,
         "type": "bar",
         "x": [
          "2024-01",
          "2024-02",
          "2024-03",
          "2024-04",
          "2024-05",
          "2024-06",
          "2024-07",
          "2024-08",
          "2024-09",
          "2024-10",
          "2024-11",
          "2024-12"
         ],
         "xaxis": "x2",
         "y": {
          "bdata": "pZRSSimlxD98GmG5pxHGP8YYY4wxxsg/ERERERER0T/nnHPOOefcP97d3d3d3c0/ttZaa6211j/GGGOMMcbIP1VVVVVVVcU/pZRSSiml1D8RERERERHBP7bWWmuttdY/",
          "dtype": "f8"
         },
         "yaxis": "y2"
        },
        {
         "marker": {
          "color": "#1f77b4"
         },
         "name": "25",
         "showlegend": false,
         "type": "bar",
         "x": [
          "2024-01",
          "2024-02",
          "2024-03",
          "2024-04",
          "2024-05",
          "2024-06",
          "2024-07",
          "2024-08",
          "2024-09",
          "2024-10",
          "2024-11",
          "2024-12"
         ],
         "xaxis": "x3",
         "y": {
          "bdata": "lVJKKaWU0j98GmG5pxHWP6WUUkoppdQ/VVVVVVVVxT+EEEIIIYTQP97d3d3d3c0/55xzzjnnzD/GGGOMMcbIP1VVVVVVVdU/hBBCCCGE0D+amZmZmZm5P5VSSimllNI/",
          "dtype": "f8"
         },
         "yaxis": "y3"
        },
        {
         "marker": {
          "color": "#ff7f0e"
         },
         "name": "50",
         "showlegend": false,
         "type": "bar",
         "x": [
          "2024-01",
          "2024-02",
          "2024-03",
          "2024-04",
          "2024-05",
          "2024-06",
          "2024-07",
          "2024-08",
          "2024-09",
          "2024-10",
          "2024-11",
          "2024-12"
         ],
         "xaxis": "x3",
         "y": {
          "bdata": "lVJKKaWU0j9HWO5phOXOP4QQQgghhNA/3t3d3d3dzT/nnHPOOefMPxEREREREcE/55xzzjnnzD/GGGOMMcbIP1VVVVVVVcU/ttZaa6211j93d3d3d3fXP5VSSimllNI/",
          "dtype": "f8"
         },
         "yaxis": "y3"
        },
        {
         "marker": {
          "color": "#2ca02c"
         },
         "name": "75",
         "showlegend": false,
         "type": "bar",
         "x": [
          "2024-01",
          "2024-02",
          "2024-03",
          "2024-04",
          "2024-05",
          "2024-06",
          "2024-07",
          "2024-08",
          "2024-09",
          "2024-10",
          "2024-11",
          "2024-12"
         ],
         "xaxis": "x3",
         "y": {
          "bdata": "hBBCCCGE0D+WexphuafRP6WUUkoppcQ/VVVVVVVV1T/nnHPOOefMPxEREREREdE/xhhjjDHGyD/XWmuttdbaP5qZmZmZmck/hBBCCCGE0D+amZmZmZnJP8YYY4wxxsg/",
          "dtype": "f8"
         },
         "yaxis": "y3"
        },
        {
         "marker": {
          "color": "#d62728"
         },
         "name": "100",
         "showlegend": false,
         "type": "bar",
         "x": [
          "2024-01",
          "2024-02",
          "2024-03",
          "2024-04",
          "2024-05",
          "2024-06",
          "2024-07",
          "2024-08",
          "2024-09",
          "2024-10",
          "2024-11",
          "2024-12"
         ],
         "xaxis": "x3",
         "y": {
          "bdata": "pZRSSimlxD+WexphuafBP4QQQgghhNA/ERERERER0T+VUkoppZTSP3d3d3d3d9c/ttZaa6211j/GGGOMMcbIPzMzMzMzM9M/hBBCCCGEwD9VVVVVVVXVP+ecc84558w/",
          "dtype": "f8"
         },
         "yaxis": "y3"
        },
        {
         "marker": {
          "color": "#1f77b4"
         },
         "name": "25",
         "showlegend": false,
         "type": "bar",
         "x": [
          "2024-01",
          "2024-02",
          "2024-03",
          "2024-04",
          "2024-05",
          "2024-06",
          "2024-07",
          "2024-08",
          "2024-09",
          "2024-10",
          "2024-11",
          "2024-12"
         ],
         "xaxis": "x4",
         "y": {
          "bdata": "pZRSSiml1D98GmG5pxHWP5VSSimllNI/ERERERER0T/GGGOMMca4PzMzMzMzM9M/hBBCCCGE0D/GGGOMMcbIPxEREREREcE/hBBCCCGE0D9VVVVVVVXVP+ecc84558w/",
          "dtype": "f8"
         },
         "yaxis": "y4"
        },
        {
         "marker": {
          "color": "#ff7f0e"
         },
         "name": "50",
         "showlegend": false,
         "type": "bar",
         "x": [
          "2024-01",
          "2024-02",
          "2024-03",
          "2024-04",
          "2024-05",
          "2024-06",
          "2024-07",
          "2024-08",
          "2024-09",
          "2024-10",
          "2024-11",
          "2024-12"
         ],
         "xaxis": "x4",
         "y": {
          "bdata": "hBBCCCGEwD98GmG5pxHGP4QQQgghhLA/3t3d3d3dzT+21lprrbXWPxEREREREdE/55xzzjnnzD/XWmuttdbaPzMzMzMzM9M/lVJKKaWU0j9VVVVVVVXFP7bWWmuttdY/",
          "dtype": "f8"
         },
         "yaxis": "y4"
        },
        {
         "marker": {
          "color": "#2ca02c"
         },
         "name": "75",
         "showlegend": false,
         "type": "bar",
         "x": [
          "2024-01",
          "2024-02",
          "2024-03",
          "2024-04",
          "2024-05",
          "2024-06",
          "2024-07",
          "2024-08",
          "2024-09",
          "2024-10",
          "2024-11",
          "2024-12"
         ],
         "xaxis": "x4",
         "y": {
          "bdata": "hBBCCCGE0D9huacRlnvKP6WUUkoppdQ/ERERERER0T+VUkoppZTSPxEREREREdE/pZRSSiml1D/GGGOMMcbIP1VVVVVVVdU/hBBCCCGEwD/e3d3d3d3NP6WUUkoppcQ/",
          "dtype": "f8"
         },
         "yaxis": "y4"
        },
        {
         "marker": {
          "color": "#d62728"
         },
         "name": "100",
         "showlegend": false,
         "type": "bar",
         "x": [
          "2024-01",
          "2024-02",
          "2024-03",
          "2024-04",
          "2024-05",
          "2024-06",
          "2024-07",
          "2024-08",
          "2024-09",
          "2024-10",
          "2024-11",
          "2024-12"
         ],
         "xaxis": "x4",
         "y": {
          "bdata": "lVJKKaWU0j+WexphuafRP6WUUkoppdQ/3t3d3d3dzT+EEEIIIYTQP1VVVVVVVcU/xhhjjDHGyD/GGGOMMcbIP97d3d3d3c0/pZRSSiml1D8RERERERHRP4QQQgghhNA/",
          "dtype": "f8"
         },
         "yaxis": "y4"
        },
        {
         "marker": {
          "color": "#1f77b4"
         },
         "name": "25",
         "showlegend": false,
         "type": "bar",
         "x": [
          "2024-01",
          "2024-02",
          "2024-03",
          "2024-04",
          "2024-05",
          "2024-06",
          "2024-07",
          "2024-08",
          "2024-09",
          "2024-10",
          "2024-11",
          "2024-12"
         ],
         "xaxis": "x5",
         "y": {
          "bdata": "pZRSSiml1D9huacRlnvaP5VSSimllNI/3t3d3d3dzT/GGGOMMcbIP5qZmZmZmck/pZRSSiml1D/GGGOMMcbIPxEREREREdE/hBBCCCGEsD+amZmZmZnJP6WUUkoppdQ/",
          "dtype": "f8"
         },
         "yaxis": "y5"
        },
        {
         "marker": {
          "color": "#ff7f0e"
         },
         "name": "50",
         "showlegend": false,
         "type": "bar",
         "x": [
          "2024-01",
          "2024-02",
          "2024-03",
          "2024-04",
          "2024-05",
          "2024-06",
          "2024-07",
          "2024-08",
          "2024-09",
          "2024-10",
          "2024-11",
          "2024-12"
         ],
         "xaxis": "x5",
         "y": {
          "bdata": "55xzzjnnzD9huacRlnvKP4QQQgghhNA/MzMzMzMz0z+llFJKKaXUP97d3d3d3c0/55xzzjnnzD/nnHPOOefMPzMzMzMzM9M/55xzzjnnzD8RERERERHRP8YYY4wxxsg/",
          "dtype": "f8"
         },
         "yaxis": "y5"
        },
        {
         "marker": {
          "color": "#2ca02c"
         },
         "name": "75",
         "showlegend": false,
         "type": "bar",
         "x": [
          "2024-01",
          "2024-02",
          "2024-03",
          "2024-04",
          "2024-05",
          "2024-06",
          "2024-07",
          "2024-08",
          "2024-09",
          "2024-10",
          "2024-11",
          "2024-12"
         ],
         "xaxis": "x5",
         "y": {
          "bdata": "hBBCCCGE0D+WexphuafBP8YYY4wxxsg/d3d3d3d31z+EEEIIIYTQPzMzMzMzM9M/lVJKKaWU0j+VUkoppZTSPxEREREREcE/ttZaa6211j8RERERERHBP4QQQgghhNA/",
          "dtype": "f8"
         },
         "yaxis": "y5"
        },
        {
         "marker": {
          "color": "#d62728"
         },
         "name": "100",
         "showlegend": false,
         "type": "bar",
         "x": [
          "2024-01",
          "2024-02",
          "2024-03",
          "2024-04",
          "2024-05",
          "2024-06",
          "2024-07",
          "2024-08",
          "2024-09",
          "2024-10",
          "2024-11",
          "2024-12"
         ],
         "xaxis": "x5",
         "y": {
          "bdata": "xhhjjDHGyD9HWO5phOXOP4QQQgghhNA/mpmZmZmZuT/nnHPOOefMPxEREREREdE/pZRSSimlxD+VUkoppZTSPzMzMzMzM9M/ttZaa6211j+amZmZmZnZP+ecc84558w/",
          "dtype": "f8"
         },
         "yaxis": "y5"
        },
        {
         "marker": {
          "color": "#1f77b4"
         },
         "name": "25",
         "showlegend": false,
         "type": "bar",
         "x": [
          "2024-01",
          "2024-02",
          "2024-03",
          "2024-04",
          "2024-05",
          "2024-06",
          "2024-07",
          "2024-08",
          "2024-09",
          "2024-10",
          "2024-11",
          "2024-12"
         ],
         "xaxis": "x6",
         "y": {
          "bdata": "11prrbXW2j9HWO5phOXOP6WUUkoppdQ/AAAAAAAA4D+EEEIIIYTQP1VVVVVVVcU/pZRSSimlxD+VUkoppZTSP5qZmZmZmck/lVJKKaWU0j+amZmZmZm5P4QQQgghhLA/",
          "dtype": "f8"
         },
         "yaxis": "y6"
        },
        {
         "marker": {
          "color": "#ff7f0e"
         },
         "name": "50",
         "showlegend": false,
         "type": "bar",
         "x": [
          "2024-01",
          "2024-02",
          "2024-03",
          "2024-04",
          "2024-05",
          "2024-06",
          "2024-07",
          "2024-08",
          "2024-09",
          "2024-10",
          "2024-11",
          "2024-12"
         ],
         "xaxis": "x6",
         "y": {
          "bdata": "xhhjjDHGyD9HWO5phOXOP+ecc84558w/VVVVVVVVxT/GGGOMMcbIP1VVVVVVVdU/hBBCCCGE0D/nnHPOOefMP5qZmZmZmdk/lVJKKaWU0j/e3d3d3d3NP+ecc84558w/",
          "dtype": "f8"
         },
         "yaxis": "y6"
        },
        {
         "marker": {
          "color": "#2ca02c"
         },
         "name": "75",
         "showlegend": false,
         "type": "bar",
         "x": [
          "2024-01",
          "2024-02",
          "2024-03",
          "2024-04",
          "2024-05",
          "2024-06",
          "2024-07",
          "2024-08",
          "2024-09",
          "2024-10",
          "2024-11",
          "2024-12"
         ],
         "xaxis": "x6",
         "y": {
          "bdata": "55xzzjnnzD98GmG5pxHWP6WUUkoppdQ/mpmZmZmZuT+llFJKKaXUPxEREREREcE/55xzzjnnzD+llFJKKaXEP5qZmZmZmck/lVJKKaWU0j9VVVVVVVXVP6WUUkoppdQ/",
          "dtype": "f8"
         },
         "yaxis": "y6"
        },
        {
         "marker": {
          "color": "#d62728"
         },
         "name": "100",
         "showlegend": false,
         "type": "bar",
         "x": [
          "2024-01",
          "2024-02",
          "2024-03",
          "2024-04",
          "2024-05",
          "2024-06",
          "2024-07",
          "2024-08",
          "2024-09",
          "2024-10",
          "2024-11",
          "2024-12"
         ],
         "xaxis": "x6",
         "y": {
          "bdata": "pZRSSimlxD98GmG5pxHGP4QQQgghhMA/3t3d3d3dzT/nnHPOOefMP3d3d3d3d9c/ttZaa6211j+llFJKKaXUP5qZmZmZmck/hBBCCCGEwD9VVVVVVVXVP8YYY4wxxtg/",
          "dtype": "f8"
         },
         "yaxis": "y6"
        },
        {
         "marker": {
          "color": "#1f77b4"
         },
         "name": "25",
         "showlegend": false,
         "type": "bar",
         "x": [
          "2024-01",
          "2024-02",
          "2024-03",
          "2024-04",
          "2024-05",
          "2024-06",
          "2024-07",
          "2024-08",
          "2024-09",
          "2024-10",
          "2024-11",
          "2024-12"
         ],
         "xaxis": "x7",
         "y": {
          "bdata": "xhhjjDHGyD/uaYTlnkbYP6WUUkoppcQ/MzMzMzMz0z+EEEIIIYTQP1VVVVVVVcU/ttZaa6211j/GGGOMMcbYP1VVVVVVVcU/lVJKKaWU0j+amZmZmZnJP6WUUkoppcQ/",
          "dtype": "f8"
         },
         "yaxis": "y7"
        },
        {
         "marker": {
          "color": "#ff7f0e"
         },
         "name": "50",
         "showlegend": false,
         "type": "bar",
         "x": [
          "2024-01",
          "2024-02",
          "2024-03",
          "2024-04",
          "2024-05",
          "2024-06",
          "2024-07",
          "2024-08",
          "2024-09",
          "2024-10",
          "2024-11",
          "2024-12"
         ],
         "xaxis": "x7",
         "y": {
          "bdata": "pZRSSimlxD98GmG5pxHGP8YYY4wxxtg/mpmZmZmZyT+EEEIIIYTQP5qZmZmZmdk/lVJKKaWU0j+EEEIIIYSwP1VVVVVVVcU/xhhjjDHGyD93d3d3d3fXP6WUUkoppdQ/",
          "dtype": "f8"
         },
         "yaxis": "y7"
        },
        {
         "marker": {
          "color": "#2ca02c"
         },
         "name": "75",
         "showlegend": false,
         "type": "bar",
         "x": [
          "2024-01",
          "2024-02",
          "2024-03",
          "2024-04",
          "2024-05",
          "2024-06",
          "2024-07",
          "2024-08",
          "2024-09",
          "2024-10",
          "2024-11",
          "2024-12"
         ],
         "xaxis": "x7",
         "y": {
          "bdata": "55xzzjnn3D9HWO5phOXOP4QQQgghhMA/mpmZmZmZyT+EEEIIIYTQP5qZmZmZmck/hBBCCCGEwD+llFJKKaXUPzMzMzMzM9M/lVJKKaWU0j/e3d3d3d3NP+ecc84558w/",
          "dtype": "f8"
         },
         "yaxis": "y7"
        },
        {
         "marker": {
          "color": "#d62728"
         },
         "name": "100",
         "showlegend": false,
         "type": "bar",
         "x": [
          "2024-01",
          "2024-02",
          "2024-03",
          "2024-04",
          "2024-05",
          "2024-06",
          "2024-07",
          "2024-08",
          "2024-09",
          "2024-10",
          "2024-11",
          "2024-12"
         ],
         "xaxis": "x7",
         "y": {
          "bdata": "xhhjjDHGyD9huacRlnvKP6WUUkoppdQ/MzMzMzMz0z/nnHPOOefMP97d3d3d3c0/55xzzjnnzD/nnHPOOefMP3d3d3d3d9c/55xzzjnnzD+amZmZmZnJP5VSSimllNI/",
          "dtype": "f8"
         },
         "yaxis": "y7"
        },
        {
         "marker": {
          "color": "#1f77b4"
         },
         "name": "25",
         "showlegend": false,
         "type": "bar",
         "x": [
          "2024-01",
          "2024-02",
          "2024-03",
          "2024-04",
          "2024-05",
          "2024-06",
          "2024-07",
          "2024-08",
          "2024-09",
          "2024-10",
          "2024-11",
          "2024-12"
         ],
         "xaxis": "x8",
         "y": {
          "bdata": "55xzzjnnzD9HWO5phOXOP+ecc84558w/mpmZmZmZyT+EEEIIIYTQPxEREREREdE/55xzzjnn3D+VUkoppZTSP5qZmZmZmck/xhhjjDHGyD9VVVVVVVXFP5VSSimllNI/",
          "dtype": "f8"
         },
         "yaxis": "y8"
        },
        {
         "marker": {
          "color": "#ff7f0e"
         },
         "name": "50",
         "showlegend": false,
         "type": "bar",
         "x": [
          "2024-01",
          "2024-02",
          "2024-03",
          "2024-04",
          "2024-05",
          "2024-06",
          "2024-07",
          "2024-08",
          "2024-09",
          "2024-10",
          "2024-11",
          "2024-12"
         ],
         "xaxis": "x8",
         "y": {
          "bdata": "xhhjjDHG2D9huacRlnvKP5VSSimllNI/VVVVVVVVxT+EEEIIIYTQP97d3d3d3c0/hBBCCCGEwD/XWmuttdbaP5qZmZmZmck/pZRSSiml1D+amZmZmZnJP6WUUkoppcQ/",
          "dtype": "f8"
         },
         "yaxis": "y8"
        },
        {
         "marker": {
          "color": "#2ca02c"
         },
         "name": "75",
         "showlegend": false,
         "type": "bar",
         "x": [
          "2024-01",
          "2024-02",
          "2024-03",
          "2024-04",
          "2024-05",
          "2024-06",
          "2024-07",
          "2024-08",
          "2024-09",
          "2024-10",
          "2024-11",
          "2024-12"
         ],
         "xaxis": "x8",
         "y": {
          "bdata": "xhhjjDHGyD9huacRlnvKP8YYY4wxxsg/mpmZmZmZ2T+VUkoppZTSP97d3d3d3c0/pZRSSiml1D/GGGOMMca4PzMzMzMzM9M/hBBCCCGE0D/e3d3d3d3NP4QQQgghhNA/",
          "dtype": "f8"
         },
         "yaxis": "y8"
        },
        {
         "marker": {
          "color": "#d62728"
         },
         "name": "100",
         "showlegend": false,
         "type": "bar",
         "x": [
          "2024-01",
          "2024-02",
          "2024-03",
          "2024-04",
          "2024-05",
          "2024-06",
          "2024-07",
          "2024-08",
          "2024-09",
          "2024-10",
          "2024-11",
          "2024-12"
         ],
         "xaxis": "x8",
         "y": {
          "bdata": "xhhjjDHGyD98GmG5pxHWP5VSSimllNI/3t3d3d3dzT/GGGOMMcbIPxEREREREdE/xhhjjDHGuD/GGGOMMcbIPzMzMzMzM9M/55xzzjnnzD+amZmZmZnZP5VSSimllNI/",
          "dtype": "f8"
         },
         "yaxis": "y8"
        },
        {
         "marker": {
          "color": "#1f77b4"
         },
         "name": "25",
         "showlegend": false,
         "type": "bar",
         "x": [
          "2024-01",
          "2024-02",
          "2024-03",
          "2024-04",
          "2024-05",
          "2024-06",
          "2024-07",
          "2024-08",
          "2024-09",
          "2024-10",
          "2024-11",
          "2024-12"
         ],
         "xaxis": "x9",
         "y": {
          "bdata": "pZRSSiml1D/uaYTlnkbYP9daa6211to/ERERERERwT+EEEIIIYSwPzMzMzMzM9M/55xzzjnnzD+EEEIIIYTQP5qZmZmZmck/lVJKKaWU0j9VVVVVVVXFP4QQQgghhNA/",
          "dtype": "f8"
         },
         "yaxis": "y9"
        },
        {
         "marker": {
          "color": "#ff7f0e"
         },
         "name": "50",
         "showlegend": false,
         "type": "bar",
         "x": [
          "2024-01",
          "2024-02",
          "2024-03",
          "2024-04",
          "2024-05",
          "2024-06",
          "2024-07",
          "2024-08",
          "2024-09",
          "2024-10",
          "2024-11",
          "2024-12"
         ],
         "xaxis": "x9",
         "y": {
          "bdata": "pZRSSimlxD+WexphuaexP+ecc84558w/ERERERER0T+VUkoppZTSP97d3d3d3c0/hBBCCCGE0D/nnHPOOefMPzMzMzMzM9M/lVJKKaWU0j8zMzMzMzPTP7bWWmuttdY/",
          "dtype": "f8"
         },
         "yaxis": "y9"
        },
        {
         "marker": {
          "color": "#2ca02c"
         },
         "name": "75",
         "showlegend": false,
         "type": "bar",
         "x": [
          "2024-01",
          "2024-02",
          "2024-03",
          "2024-04",
          "2024-05",
          "2024-06",
          "2024-07",
          "2024-08",
          "2024-09",
          "2024-10",
          "2024-11",
          "2024-12"
         ],
         "xaxis": "x9",
         "y": {
          "bdata": "pZRSSiml1D+WexphuafRP4QQQgghhMA/ERERERER0T+21lprrbXWP1VVVVVVVcU/pZRSSiml1D+EEEIIIYTQP5qZmZmZmck/pZRSSimlxD9VVVVVVVXVP8YYY4wxxsg/",
          "dtype": "f8"
         },
         "yaxis": "y9"
        },
        {
         "marker": {
          "color": "#d62728"
         },
         "name": "100",
         "showlegend": false,
         "type": "bar",
         "x": [
          "2024-01",
          "2024-02",
          "2024-03",
          "2024-04",
          "2024-05",
          "2024-06",
          "2024-07",
          "2024-08",
          "2024-09",
          "2024-10",
          "2024-11",
          "2024-12"
         ],
         "xaxis": "x9",
         "y": {
          "bdata": "xhhjjDHGyD+WexphuafRP+ecc84558w/VVVVVVVV1T+VUkoppZTSPzMzMzMzM9M/xhhjjDHGyD+EEEIIIYTQPzMzMzMzM9M/hBBCCCGE0D+amZmZmZnJP8YYY4wxxsg/",
          "dtype": "f8"
         },
         "yaxis": "y9"
        },
        {
         "marker": {
          "color": "#1f77b4"
         },
         "name": "25",
         "showlegend": false,
         "type": "bar",
         "x": [
          "2024-01",
          "2024-02",
          "2024-03",
          "2024-04",
          "2024-05",
          "2024-06",
          "2024-07",
          "2024-08",
          "2024-09",
          "2024-10",
          "2024-11",
          "2024-12"
         ],
         "xaxis": "x10",
         "y": {
          "bdata": "ttZaa6211j9HWO5phOXOP4QQQgghhNA/VVVVVVVV1T+llFJKKaXUPzMzMzMzM9M/hBBCCCGEwD+llFJKKaXEPxEREREREdE/hBBCCCGE0D8RERERERHBP4QQQgghhNA/",
          "dtype": "f8"
         },
         "yaxis": "y10"
        },
        {
         "marker": {
          "color": "#ff7f0e"
         },
         "name": "50",
         "showlegend": false,
         "type": "bar",
         "x": [
          "2024-01",
          "2024-02",
          "2024-03",
          "2024-04",
          "2024-05",
          "2024-06",
          "2024-07",
          "2024-08",
          "2024-09",
          "2024-10",
          "2024-11",
          "2024-12"
         ],
         "xaxis": "x10",
         "y": {
          "bdata": "hBBCCCGE0D98GmG5pxHGP5VSSimllNI/VVVVVVVVxT+21lprrbXWPxEREREREdE/55xzzjnnzD+VUkoppZTSP1VVVVVVVcU/hBBCCCGEwD/e3d3d3d3dP8YYY4wxxsg/",
          "dtype": "f8"
         },
         "yaxis": "y10"
        },
        {
         "marker": {
          "color": "#2ca02c"
         },
         "name": "75",
         "showlegend": false,
         "type": "bar",
         "x": [
          "2024-01",
          "2024-02",
          "2024-03",
          "2024-04",
          "2024-05",
          "2024-06",
          "2024-07",
          "2024-08",
          "2024-09",
          "2024-10",
          "2024-11",
          "2024-12"
         ],
         "xaxis": "x10",
         "y": {
          "bdata": "lVJKKaWU0j/uaYTlnkbYP4QQQgghhNA/3t3d3d3dzT+EEEIIIYTAP97d3d3d3c0/55xzzjnnzD/GGGOMMcbIP1VVVVVVVdU/ttZaa6211j8RERERERHBP+ecc84558w/",
          "dtype": "f8"
         },
         "yaxis": "y10"
        },
        {
         "marker": {
          "color": "#d62728"
         },
         "name": "100",
         "showlegend": false,
         "type": "bar",
         "x": [
          "2024-01",
          "2024-02",
          "2024-03",
          "2024-04",
          "2024-05",
          "2024-06",
          "2024-07",
          "2024-08",
          "2024-09",
          "2024-10",
          "2024-11",
          "2024-12"
         ],
         "xaxis": "x10",
         "y": {
          "bdata": "xhhjjDHGuD9huacRlnvKP8YYY4wxxsg/ERERERER0T/GGGOMMcbIP5qZmZmZmck/11prrbXW2j+21lprrbXWP97d3d3d3c0/hBBCCCGE0D8RERERERHRP6WUUkoppdQ/",
          "dtype": "f8"
         },
         "yaxis": "y10"
        }
       ],
       "layout": {
        "annotations": [
         {
          "font": {
           "size": 16
          },
          "showarrow": false,
          "text": "Feature0",
          "x": 0.08399999999999999,
          "xanchor": "center",
          "xref": "paper",
          "y": 1,
          "yanchor": "bottom",
          "yref": "paper"
         },
         {
          "font": {
           "size": 16
          },
          "showarrow": false,
          "text": "Feature1",
          "x": 0.292,
          "xanchor": "center",
          "xref": "paper",
          "y": 1,
          "yanchor": "bottom",
          "yref": "paper"
         },
         {
          "font": {
           "size": 16
          },
          "showarrow": false,
          "text": "Feature2",
          "x": 0.5,
          "xanchor": "center",
          "xref": "paper",
          "y": 1,
          "yanchor": "bottom",
          "yref": "paper"
         },
         {
          "font": {
           "size": 16
          },
          "showarrow": false,
          "text": "Feature3",
          "x": 0.708,
          "xanchor": "center",
          "xref": "paper",
          "y": 1,
          "yanchor": "bottom",
          "yref": "paper"
         },
         {
          "font": {
           "size": 16
          },
          "showarrow": false,
          "text": "Feature4",
          "x": 0.9159999999999999,
          "xanchor": "center",
          "xref": "paper",
          "y": 1,
          "yanchor": "bottom",
          "yref": "paper"
         },
         {
          "font": {
           "size": 16
          },
          "showarrow": false,
          "text": "Feature5",
          "x": 0.08399999999999999,
          "xanchor": "center",
          "xref": "paper",
          "y": 0.375,
          "yanchor": "bottom",
          "yref": "paper"
         },
         {
          "font": {
           "size": 16
          },
          "showarrow": false,
          "text": "Feature6",
          "x": 0.292,
          "xanchor": "center",
          "xref": "paper",
          "y": 0.375,
          "yanchor": "bottom",
          "yref": "paper"
         },
         {
          "font": {
           "size": 16
          },
          "showarrow": false,
          "text": "Feature7",
          "x": 0.5,
          "xanchor": "center",
          "xref": "paper",
          "y": 0.375,
          "yanchor": "bottom",
          "yref": "paper"
         },
         {
          "font": {
           "size": 16
          },
          "showarrow": false,
          "text": "Feature8",
          "x": 0.708,
          "xanchor": "center",
          "xref": "paper",
          "y": 0.375,
          "yanchor": "bottom",
          "yref": "paper"
         },
         {
          "font": {
           "size": 16
          },
          "showarrow": false,
          "text": "Feature9",
          "x": 0.9159999999999999,
          "xanchor": "center",
          "xref": "paper",
          "y": 0.375,
          "yanchor": "bottom",
          "yref": "paper"
         }
        ],
        "barmode": "stack",
        "height": 506.25,
        "legend": {
         "title": {
          "text": "Quartile"
         }
        },
        "template": {
         "data": {
          "bar": [
           {
            "error_x": {
             "color": "#2a3f5f"
            },
            "error_y": {
             "color": "#2a3f5f"
            },
            "marker": {
             "line": {
              "color": "#E5ECF6",
              "width": 0.5
             },
             "pattern": {
              "fillmode": "overlay",
              "size": 10,
              "solidity": 0.2
             }
            },
            "type": "bar"
           }
          ],
          "barpolar": [
           {
            "marker": {
             "line": {
              "color": "#E5ECF6",
              "width": 0.5
             },
             "pattern": {
              "fillmode": "overlay",
              "size": 10,
              "solidity": 0.2
             }
            },
            "type": "barpolar"
           }
          ],
          "carpet": [
           {
            "aaxis": {
             "endlinecolor": "#2a3f5f",
             "gridcolor": "white",
             "linecolor": "white",
             "minorgridcolor": "white",
             "startlinecolor": "#2a3f5f"
            },
            "baxis": {
             "endlinecolor": "#2a3f5f",
             "gridcolor": "white",
             "linecolor": "white",
             "minorgridcolor": "white",
             "startlinecolor": "#2a3f5f"
            },
            "type": "carpet"
           }
          ],
          "choropleth": [
           {
            "colorbar": {
             "outlinewidth": 0,
             "ticks": ""
            },
            "type": "choropleth"
           }
          ],
          "contour": [
           {
            "colorbar": {
             "outlinewidth": 0,
             "ticks": ""
            },
            "colorscale": [
             [
              0,
              "#0d0887"
             ],
             [
              0.1111111111111111,
              "#46039f"
             ],
             [
              0.2222222222222222,
              "#7201a8"
             ],
             [
              0.3333333333333333,
              "#9c179e"
             ],
             [
              0.4444444444444444,
              "#bd3786"
             ],
             [
              0.5555555555555556,
              "#d8576b"
             ],
             [
              0.6666666666666666,
              "#ed7953"
             ],
             [
              0.7777777777777778,
              "#fb9f3a"
             ],
             [
              0.8888888888888888,
              "#fdca26"
             ],
             [
              1,
              "#f0f921"
             ]
            ],
            "type": "contour"
           }
          ],
          "contourcarpet": [
           {
            "colorbar": {
             "outlinewidth": 0,
             "ticks": ""
            },
            "type": "contourcarpet"
           }
          ],
          "heatmap": [
           {
            "colorbar": {
             "outlinewidth": 0,
             "ticks": ""
            },
            "colorscale": [
             [
              0,
              "#0d0887"
             ],
             [
              0.1111111111111111,
              "#46039f"
             ],
             [
              0.2222222222222222,
              "#7201a8"
             ],
             [
              0.3333333333333333,
              "#9c179e"
             ],
             [
              0.4444444444444444,
              "#bd3786"
             ],
             [
              0.5555555555555556,
              "#d8576b"
             ],
             [
              0.6666666666666666,
              "#ed7953"
             ],
             [
              0.7777777777777778,
              "#fb9f3a"
             ],
             [
              0.8888888888888888,
              "#fdca26"
             ],
             [
              1,
              "#f0f921"
             ]
            ],
            "type": "heatmap"
           }
          ],
          "histogram": [
           {
            "marker": {
             "pattern": {
              "fillmode": "overlay",
              "size": 10,
              "solidity": 0.2
             }
            },
            "type": "histogram"
           }
          ],
          "histogram2d": [
           {
            "colorbar": {
             "outlinewidth": 0,
             "ticks": ""
            },
            "colorscale": [
             [
              0,
              "#0d0887"
             ],
             [
              0.1111111111111111,
              "#46039f"
             ],
             [
              0.2222222222222222,
              "#7201a8"
             ],
             [
              0.3333333333333333,
              "#9c179e"
             ],
             [
              0.4444444444444444,
              "#bd3786"
             ],
             [
              0.5555555555555556,
              "#d8576b"
             ],
             [
              0.6666666666666666,
              "#ed7953"
             ],
             [
              0.7777777777777778,
              "#fb9f3a"
             ],
             [
              0.8888888888888888,
              "#fdca26"
             ],
             [
              1,
              "#f0f921"
             ]
            ],
            "type": "histogram2d"
           }
          ],
          "histogram2dcontour": [
           {
            "colorbar": {
             "outlinewidth": 0,
             "ticks": ""
            },
            "colorscale": [
             [
              0,
              "#0d0887"
             ],
             [
              0.1111111111111111,
              "#46039f"
             ],
             [
              0.2222222222222222,
              "#7201a8"
             ],
             [
              0.3333333333333333,
              "#9c179e"
             ],
             [
              0.4444444444444444,
              "#bd3786"
             ],
             [
              0.5555555555555556,
              "#d8576b"
             ],
             [
              0.6666666666666666,
              "#ed7953"
             ],
             [
              0.7777777777777778,
              "#fb9f3a"
             ],
             [
              0.8888888888888888,
              "#fdca26"
             ],
             [
              1,
              "#f0f921"
             ]
            ],
            "type": "histogram2dcontour"
           }
          ],
          "mesh3d": [
           {
            "colorbar": {
             "outlinewidth": 0,
             "ticks": ""
            },
            "type": "mesh3d"
           }
          ],
          "parcoords": [
           {
            "line": {
             "colorbar": {
              "outlinewidth": 0,
              "ticks": ""
             }
            },
            "type": "parcoords"
           }
          ],
          "pie": [
           {
            "automargin": true,
            "type": "pie"
           }
          ],
          "scatter": [
           {
            "fillpattern": {
             "fillmode": "overlay",
             "size": 10,
             "solidity": 0.2
            },
            "type": "scatter"
           }
          ],
          "scatter3d": [
           {
            "line": {
             "colorbar": {
              "outlinewidth": 0,
              "ticks": ""
             }
            },
            "marker": {
             "colorbar": {
              "outlinewidth": 0,
              "ticks": ""
             }
            },
            "type": "scatter3d"
           }
          ],
          "scattercarpet": [
           {
            "marker": {
             "colorbar": {
              "outlinewidth": 0,
              "ticks": ""
             }
            },
            "type": "scattercarpet"
           }
          ],
          "scattergeo": [
           {
            "marker": {
             "colorbar": {
              "outlinewidth": 0,
              "ticks": ""
             }
            },
            "type": "scattergeo"
           }
          ],
          "scattergl": [
           {
            "marker": {
             "colorbar": {
              "outlinewidth": 0,
              "ticks": ""
             }
            },
            "type": "scattergl"
           }
          ],
          "scattermap": [
           {
            "marker": {
             "colorbar": {
              "outlinewidth": 0,
              "ticks": ""
             }
            },
            "type": "scattermap"
           }
          ],
          "scattermapbox": [
           {
            "marker": {
             "colorbar": {
              "outlinewidth": 0,
              "ticks": ""
             }
            },
            "type": "scattermapbox"
           }
          ],
          "scatterpolar": [
           {
            "marker": {
             "colorbar": {
              "outlinewidth": 0,
              "ticks": ""
             }
            },
            "type": "scatterpolar"
           }
          ],
          "scatterpolargl": [
           {
            "marker": {
             "colorbar": {
              "outlinewidth": 0,
              "ticks": ""
             }
            },
            "type": "scatterpolargl"
           }
          ],
          "scatterternary": [
           {
            "marker": {
             "colorbar": {
              "outlinewidth": 0,
              "ticks": ""
             }
            },
            "type": "scatterternary"
           }
          ],
          "surface": [
           {
            "colorbar": {
             "outlinewidth": 0,
             "ticks": ""
            },
            "colorscale": [
             [
              0,
              "#0d0887"
             ],
             [
              0.1111111111111111,
              "#46039f"
             ],
             [
              0.2222222222222222,
              "#7201a8"
             ],
             [
              0.3333333333333333,
              "#9c179e"
             ],
             [
              0.4444444444444444,
              "#bd3786"
             ],
             [
              0.5555555555555556,
              "#d8576b"
             ],
             [
              0.6666666666666666,
              "#ed7953"
             ],
             [
              0.7777777777777778,
              "#fb9f3a"
             ],
             [
              0.8888888888888888,
              "#fdca26"
             ],
             [
              1,
              "#f0f921"
             ]
            ],
            "type": "surface"
           }
          ],
          "table": [
           {
            "cells": {
             "fill": {
              "color": "#EBF0F8"
             },
             "line": {
              "color": "white"
             }
            },
            "header": {
             "fill": {
              "color": "#C8D4E3"
             },
             "line": {
              "color": "white"
             }
            },
            "type": "table"
           }
          ]
         },
         "layout": {
          "annotationdefaults": {
           "arrowcolor": "#2a3f5f",
           "arrowhead": 0,
           "arrowwidth": 1
          },
          "autotypenumbers": "strict",
          "coloraxis": {
           "colorbar": {
            "outlinewidth": 0,
            "ticks": ""
           }
          },
          "colorscale": {
           "diverging": [
            [
             0,
             "#8e0152"
            ],
            [
             0.1,
             "#c51b7d"
            ],
            [
             0.2,
             "#de77ae"
            ],
            [
             0.3,
             "#f1b6da"
            ],
            [
             0.4,
             "#fde0ef"
            ],
            [
             0.5,
             "#f7f7f7"
            ],
            [
             0.6,
             "#e6f5d0"
            ],
            [
             0.7,
             "#b8e186"
            ],
            [
             0.8,
             "#7fbc41"
            ],
            [
             0.9,
             "#4d9221"
            ],
            [
             1,
             "#276419"
            ]
           ],
           "sequential": [
            [
             0,
             "#0d0887"
            ],
            [
             0.1111111111111111,
             "#46039f"
            ],
            [
             0.2222222222222222,
             "#7201a8"
            ],
            [
             0.3333333333333333,
             "#9c179e"
            ],
            [
             0.4444444444444444,
             "#bd3786"
            ],
            [
             0.5555555555555556,
             "#d8576b"
            ],
            [
             0.6666666666666666,
             "#ed7953"
            ],
            [
             0.7777777777777778,
             "#fb9f3a"
            ],
            [
             0.8888888888888888,
             "#fdca26"
            ],
            [
             1,
             "#f0f921"
            ]
           ],
           "sequentialminus": [
            [
             0,
             "#0d0887"
            ],
            [
             0.1111111111111111,
             "#46039f"
            ],
            [
             0.2222222222222222,
             "#7201a8"
            ],
            [
             0.3333333333333333,
             "#9c179e"
            ],
            [
             0.4444444444444444,
             "#bd3786"
            ],
            [
             0.5555555555555556,
             "#d8576b"
            ],
            [
             0.6666666666666666,
             "#ed7953"
            ],
            [
             0.7777777777777778,
             "#fb9f3a"
            ],
            [
             0.8888888888888888,
             "#fdca26"
            ],
            [
             1,
             "#f0f921"
            ]
           ]
          },
          "colorway": [
           "#636efa",
           "#EF553B",
           "#00cc96",
           "#ab63fa",
           "#FFA15A",
           "#19d3f3",
           "#FF6692",
           "#B6E880",
           "#FF97FF",
           "#FECB52"
          ],
          "font": {
           "color": "#2a3f5f"
          },
          "geo": {
           "bgcolor": "white",
           "lakecolor": "white",
           "landcolor": "#E5ECF6",
           "showlakes": true,
           "showland": true,
           "subunitcolor": "white"
          },
          "hoverlabel": {
           "align": "left"
          },
          "hovermode": "closest",
          "mapbox": {
           "style": "light"
          },
          "paper_bgcolor": "white",
          "plot_bgcolor": "#E5ECF6",
          "polar": {
           "angularaxis": {
            "gridcolor": "white",
            "linecolor": "white",
            "ticks": ""
           },
           "bgcolor": "#E5ECF6",
           "radialaxis": {
            "gridcolor": "white",
            "linecolor": "white",
            "ticks": ""
           }
          },
          "scene": {
           "xaxis": {
            "backgroundcolor": "#E5ECF6",
            "gridcolor": "white",
            "gridwidth": 2,
            "linecolor": "white",
            "showbackground": true,
            "ticks": "",
            "zerolinecolor": "white"
           },
           "yaxis": {
            "backgroundcolor": "#E5ECF6",
            "gridcolor": "white",
            "gridwidth": 2,
            "linecolor": "white",
            "showbackground": true,
            "ticks": "",
            "zerolinecolor": "white"
           },
           "zaxis": {
            "backgroundcolor": "#E5ECF6",
            "gridcolor": "white",
            "gridwidth": 2,
            "linecolor": "white",
            "showbackground": true,
            "ticks": "",
            "zerolinecolor": "white"
           }
          },
          "shapedefaults": {
           "line": {
            "color": "#2a3f5f"
           }
          },
          "ternary": {
           "aaxis": {
            "gridcolor": "white",
            "linecolor": "white",
            "ticks": ""
           },
           "baxis": {
            "gridcolor": "white",
            "linecolor": "white",
            "ticks": ""
           },
           "bgcolor": "#E5ECF6",
           "caxis": {
            "gridcolor": "white",
            "linecolor": "white",
            "ticks": ""
           }
          },
          "title": {
           "x": 0.05
          },
          "xaxis": {
           "automargin": true,
           "gridcolor": "white",
           "linecolor": "white",
           "ticks": "",
           "title": {
            "standoff": 15
           },
           "zerolinecolor": "white",
           "zerolinewidth": 2
          },
          "yaxis": {
           "automargin": true,
           "gridcolor": "white",
           "linecolor": "white",
           "ticks": "",
           "title": {
            "standoff": 15
           },
           "zerolinecolor": "white",
           "zerolinewidth": 2
          }
         }
        },
        "title": {
         "text": "Feature Stability Plots"
        },
        "width": 1500,
        "xaxis": {
         "anchor": "y",
         "domain": [
          0,
          0.16799999999999998
         ],
         "tickangle": 90
        },
        "xaxis10": {
         "anchor": "y10",
         "domain": [
          0.832,
          1
         ],
         "tickangle": 90
        },
        "xaxis2": {
         "anchor": "y2",
         "domain": [
          0.208,
          0.376
         ],
         "tickangle": 90
        },
        "xaxis3": {
         "anchor": "y3",
         "domain": [
          0.416,
          0.584
         ],
         "tickangle": 90
        },
        "xaxis4": {
         "anchor": "y4",
         "domain": [
          0.624,
          0.792
         ],
         "tickangle": 90
        },
        "xaxis5": {
         "anchor": "y5",
         "domain": [
          0.832,
          1
         ],
         "tickangle": 90
        },
        "xaxis6": {
         "anchor": "y6",
         "domain": [
          0,
          0.16799999999999998
         ],
         "tickangle": 90
        },
        "xaxis7": {
         "anchor": "y7",
         "domain": [
          0.208,
          0.376
         ],
         "tickangle": 90
        },
        "xaxis8": {
         "anchor": "y8",
         "domain": [
          0.416,
          0.584
         ],
         "tickangle": 90
        },
        "xaxis9": {
         "anchor": "y9",
         "domain": [
          0.624,
          0.792
         ],
         "tickangle": 90
        },
        "yaxis": {
         "anchor": "x",
         "domain": [
          0.625,
          1
         ],
         "title": {
          "text": "Proportion"
         }
        },
        "yaxis10": {
         "anchor": "x10",
         "domain": [
          0,
          0.375
         ],
         "title": {
          "text": "Proportion"
         }
        },
        "yaxis2": {
         "anchor": "x2",
         "domain": [
          0.625,
          1
         ],
         "title": {
          "text": "Proportion"
         }
        },
        "yaxis3": {
         "anchor": "x3",
         "domain": [
          0.625,
          1
         ],
         "title": {
          "text": "Proportion"
         }
        },
        "yaxis4": {
         "anchor": "x4",
         "domain": [
          0.625,
          1
         ],
         "title": {
          "text": "Proportion"
         }
        },
        "yaxis5": {
         "anchor": "x5",
         "domain": [
          0.625,
          1
         ],
         "title": {
          "text": "Proportion"
         }
        },
        "yaxis6": {
         "anchor": "x6",
         "domain": [
          0,
          0.375
         ],
         "title": {
          "text": "Proportion"
         }
        },
        "yaxis7": {
         "anchor": "x7",
         "domain": [
          0,
          0.375
         ],
         "title": {
          "text": "Proportion"
         }
        },
        "yaxis8": {
         "anchor": "x8",
         "domain": [
          0,
          0.375
         ],
         "title": {
          "text": "Proportion"
         }
        },
        "yaxis9": {
         "anchor": "x9",
         "domain": [
          0,
          0.375
         ],
         "title": {
          "text": "Proportion"
         }
        }
       }
      }
     },
     "metadata": {},
     "output_type": "display_data"
    }
   ],
   "source": [
    "fig = plot_feature_stability(df, feature_names)\n",
    "fig.show()"
   ]
  },
  {
   "cell_type": "code",
   "execution_count": 14,
   "metadata": {},
   "outputs": [
    {
     "data": {
      "application/vnd.plotly.v1+json": {
       "config": {
        "plotlyServerURL": "https://plot.ly"
       },
       "data": [
        {
         "marker": {
          "color": "#636EFA"
         },
         "name": "25",
         "showlegend": true,
         "type": "bar",
         "x": [
          "2024-01",
          "2024-02",
          "2024-03",
          "2024-04",
          "2024-05",
          "2024-06",
          "2024-07",
          "2024-08",
          "2024-09",
          "2024-10",
          "2024-11",
          "2024-12"
         ],
         "xaxis": "x",
         "y": {
          "bdata": "hBBCCCGEwD98GmG5pxHWP6WUUkoppdQ/ERERERER0T+EEEIIIYTQPxEREREREdE/xhhjjDHGyD+llFJKKaXEP5qZmZmZmck/55xzzjnn3D/e3d3d3d3NP8YYY4wxxsg/",
          "dtype": "f8"
         },
         "yaxis": "y"
        },
        {
         "marker": {
          "color": "#EF553B"
         },
         "name": "50",
         "showlegend": true,
         "type": "bar",
         "x": [
          "2024-01",
          "2024-02",
          "2024-03",
          "2024-04",
          "2024-05",
          "2024-06",
          "2024-07",
          "2024-08",
          "2024-09",
          "2024-10",
          "2024-11",
          "2024-12"
         ],
         "xaxis": "x",
         "y": {
          "bdata": "lVJKKaWU0j9huacRlnu6P4QQQgghhMA/MzMzMzMz0z+llFJKKaXEP3d3d3d3d9c/hBBCCCGE0D+llFJKKaXUP97d3d3d3c0/55xzzjnnzD8RERERERHRP6WUUkoppdQ/",
          "dtype": "f8"
         },
         "yaxis": "y"
        },
        {
         "marker": {
          "color": "#00CC96"
         },
         "name": "75",
         "showlegend": true,
         "type": "bar",
         "x": [
          "2024-01",
          "2024-02",
          "2024-03",
          "2024-04",
          "2024-05",
          "2024-06",
          "2024-07",
          "2024-08",
          "2024-09",
          "2024-10",
          "2024-11",
          "2024-12"
         ],
         "xaxis": "x",
         "y": {
          "bdata": "hBBCCCGE0D8Jyz2NsNzTP5VSSimllNI/mpmZmZmZyT+EEEIIIYTQP97d3d3d3c0/pZRSSiml1D+EEEIIIYTQP97d3d3d3c0/pZRSSimlxD9VVVVVVVXFP5VSSimllNI/",
          "dtype": "f8"
         },
         "yaxis": "y"
        },
        {
         "marker": {
          "color": "#AB63FA"
         },
         "name": "100",
         "showlegend": true,
         "type": "bar",
         "x": [
          "2024-01",
          "2024-02",
          "2024-03",
          "2024-04",
          "2024-05",
          "2024-06",
          "2024-07",
          "2024-08",
          "2024-09",
          "2024-10",
          "2024-11",
          "2024-12"
         ],
         "xaxis": "x",
         "y": {
          "bdata": "pZRSSiml1D9HWO5phOXOP4QQQgghhNA/3t3d3d3dzT+llFJKKaXUPxEREREREcE/55xzzjnnzD+EEEIIIYTQP1VVVVVVVdU/pZRSSimlxD9VVVVVVVXVP8YYY4wxxsg/",
          "dtype": "f8"
         },
         "yaxis": "y"
        },
        {
         "marker": {
          "color": "#636EFA"
         },
         "name": "25",
         "showlegend": false,
         "type": "bar",
         "x": [
          "2024-01",
          "2024-02",
          "2024-03",
          "2024-04",
          "2024-05",
          "2024-06",
          "2024-07",
          "2024-08",
          "2024-09",
          "2024-10",
          "2024-11",
          "2024-12"
         ],
         "xaxis": "x2",
         "y": {
          "bdata": "xhhjjDHGuD98GmG5pxHWP7bWWmuttdY/ERERERER0T+VUkoppZTSP5qZmZmZmbk/55xzzjnnzD/GGGOMMcbYPzMzMzMzM9M/hBBCCCGE0D+amZmZmZnJP8YYY4wxxsg/",
          "dtype": "f8"
         },
         "yaxis": "y2"
        },
        {
         "marker": {
          "color": "#EF553B"
         },
         "name": "50",
         "showlegend": false,
         "type": "bar",
         "x": [
          "2024-01",
          "2024-02",
          "2024-03",
          "2024-04",
          "2024-05",
          "2024-06",
          "2024-07",
          "2024-08",
          "2024-09",
          "2024-10",
          "2024-11",
          "2024-12"
         ],
         "xaxis": "x2",
         "y": {
          "bdata": "lVJKKaWU0j9HWO5phOXOP+ecc84558w/MzMzMzMz0z/nnHPOOefMP1VVVVVVVdU/xhhjjDHGyD/GGGOMMcbIP5qZmZmZmck/hBBCCCGE0D9VVVVVVVXVP8YYY4wxxsg/",
          "dtype": "f8"
         },
         "yaxis": "y2"
        },
        {
         "marker": {
          "color": "#00CC96"
         },
         "name": "75",
         "showlegend": false,
         "type": "bar",
         "x": [
          "2024-01",
          "2024-02",
          "2024-03",
          "2024-04",
          "2024-05",
          "2024-06",
          "2024-07",
          "2024-08",
          "2024-09",
          "2024-10",
          "2024-11",
          "2024-12"
         ],
         "xaxis": "x2",
         "y": {
          "bdata": "ttZaa6211j9HWO5phOXOP8YYY4wxxsg/VVVVVVVVxT/GGGOMMcbIP1VVVVVVVdU/ttZaa6211j/GGGOMMca4P5qZmZmZmck/55xzzjnnzD8RERERERHRP7bWWmuttdY/",
          "dtype": "f8"
         },
         "yaxis": "y2"
        },
        {
         "marker": {
          "color": "#AB63FA"
         },
         "name": "100",
         "showlegend": false,
         "type": "bar",
         "x": [
          "2024-01",
          "2024-02",
          "2024-03",
          "2024-04",
          "2024-05",
          "2024-06",
          "2024-07",
          "2024-08",
          "2024-09",
          "2024-10",
          "2024-11",
          "2024-12"
         ],
         "xaxis": "x2",
         "y": {
          "bdata": "hBBCCCGE0D98GmG5pxHGP+ecc84558w/ERERERER0T+VUkoppZTSP97d3d3d3c0/55xzzjnnzD+llFJKKaXUPzMzMzMzM9M/hBBCCCGE0D+amZmZmZnJP4QQQgghhNA/",
          "dtype": "f8"
         },
         "yaxis": "y2"
        },
        {
         "marker": {
          "color": "#636EFA"
         },
         "name": "25",
         "showlegend": false,
         "type": "bar",
         "x": [
          "2024-01",
          "2024-02",
          "2024-03",
          "2024-04",
          "2024-05",
          "2024-06",
          "2024-07",
          "2024-08",
          "2024-09",
          "2024-10",
          "2024-11",
          "2024-12"
         ],
         "xaxis": "x3",
         "y": {
          "bdata": "ttZaa6211j98GmG5pxHWP5VSSimllNI/3t3d3d3dzT/GGGOMMcbIPzMzMzMzM9M/xhhjjDHGyD+EEEIIIYTQP1VVVVVVVdU/hBBCCCGEwD9VVVVVVVXFP+ecc84558w/",
          "dtype": "f8"
         },
         "yaxis": "y3"
        },
        {
         "marker": {
          "color": "#EF553B"
         },
         "name": "50",
         "showlegend": false,
         "type": "bar",
         "x": [
          "2024-01",
          "2024-02",
          "2024-03",
          "2024-04",
          "2024-05",
          "2024-06",
          "2024-07",
          "2024-08",
          "2024-09",
          "2024-10",
          "2024-11",
          "2024-12"
         ],
         "xaxis": "x3",
         "y": {
          "bdata": "pZRSSimlxD+WexphuaexP5VSSimllNI/3t3d3d3dzT+EEEIIIYTQPxEREREREdE/pZRSSiml1D+llFJKKaXUPzMzMzMzM9M/xhhjjDHGyD+amZmZmZnZP6WUUkoppcQ/",
          "dtype": "f8"
         },
         "yaxis": "y3"
        },
        {
         "marker": {
          "color": "#00CC96"
         },
         "name": "75",
         "showlegend": false,
         "type": "bar",
         "x": [
          "2024-01",
          "2024-02",
          "2024-03",
          "2024-04",
          "2024-05",
          "2024-06",
          "2024-07",
          "2024-08",
          "2024-09",
          "2024-10",
          "2024-11",
          "2024-12"
         ],
         "xaxis": "x3",
         "y": {
          "bdata": "lVJKKaWU0j8Jyz2NsNzTP8YYY4wxxrg/MzMzMzMz0z/nnHPOOefMP97d3d3d3c0/hBBCCCGE0D+VUkoppZTSP5qZmZmZmck/55xzzjnnzD9VVVVVVVXFP8YYY4wxxtg/",
          "dtype": "f8"
         },
         "yaxis": "y3"
        },
        {
         "marker": {
          "color": "#AB63FA"
         },
         "name": "100",
         "showlegend": false,
         "type": "bar",
         "x": [
          "2024-01",
          "2024-02",
          "2024-03",
          "2024-04",
          "2024-05",
          "2024-06",
          "2024-07",
          "2024-08",
          "2024-09",
          "2024-10",
          "2024-11",
          "2024-12"
         ],
         "xaxis": "x3",
         "y": {
          "bdata": "xhhjjDHGyD+WexphuafRP6WUUkoppdQ/3t3d3d3dzT+llFJKKaXUP5qZmZmZmck/55xzzjnnzD+EEEIIIYTAP1VVVVVVVcU/55xzzjnn3D8RERERERHRP+ecc84558w/",
          "dtype": "f8"
         },
         "yaxis": "y3"
        }
       ],
       "layout": {
        "annotations": [
         {
          "font": {
           "size": 16
          },
          "showarrow": false,
          "text": "Feature0",
          "x": 0.14444444444444446,
          "xanchor": "center",
          "xref": "paper",
          "y": 1,
          "yanchor": "bottom",
          "yref": "paper"
         },
         {
          "font": {
           "size": 16
          },
          "showarrow": false,
          "text": "Feature1",
          "x": 0.5,
          "xanchor": "center",
          "xref": "paper",
          "y": 1,
          "yanchor": "bottom",
          "yref": "paper"
         },
         {
          "font": {
           "size": 16
          },
          "showarrow": false,
          "text": "Feature2",
          "x": 0.8555555555555556,
          "xanchor": "center",
          "xref": "paper",
          "y": 1,
          "yanchor": "bottom",
          "yref": "paper"
         }
        ],
        "barmode": "stack",
        "height": 600,
        "legend": {
         "title": {
          "text": "Quartile"
         }
        },
        "template": {
         "data": {
          "bar": [
           {
            "error_x": {
             "color": "#2a3f5f"
            },
            "error_y": {
             "color": "#2a3f5f"
            },
            "marker": {
             "line": {
              "color": "#E5ECF6",
              "width": 0.5
             },
             "pattern": {
              "fillmode": "overlay",
              "size": 10,
              "solidity": 0.2
             }
            },
            "type": "bar"
           }
          ],
          "barpolar": [
           {
            "marker": {
             "line": {
              "color": "#E5ECF6",
              "width": 0.5
             },
             "pattern": {
              "fillmode": "overlay",
              "size": 10,
              "solidity": 0.2
             }
            },
            "type": "barpolar"
           }
          ],
          "carpet": [
           {
            "aaxis": {
             "endlinecolor": "#2a3f5f",
             "gridcolor": "white",
             "linecolor": "white",
             "minorgridcolor": "white",
             "startlinecolor": "#2a3f5f"
            },
            "baxis": {
             "endlinecolor": "#2a3f5f",
             "gridcolor": "white",
             "linecolor": "white",
             "minorgridcolor": "white",
             "startlinecolor": "#2a3f5f"
            },
            "type": "carpet"
           }
          ],
          "choropleth": [
           {
            "colorbar": {
             "outlinewidth": 0,
             "ticks": ""
            },
            "type": "choropleth"
           }
          ],
          "contour": [
           {
            "colorbar": {
             "outlinewidth": 0,
             "ticks": ""
            },
            "colorscale": [
             [
              0,
              "#0d0887"
             ],
             [
              0.1111111111111111,
              "#46039f"
             ],
             [
              0.2222222222222222,
              "#7201a8"
             ],
             [
              0.3333333333333333,
              "#9c179e"
             ],
             [
              0.4444444444444444,
              "#bd3786"
             ],
             [
              0.5555555555555556,
              "#d8576b"
             ],
             [
              0.6666666666666666,
              "#ed7953"
             ],
             [
              0.7777777777777778,
              "#fb9f3a"
             ],
             [
              0.8888888888888888,
              "#fdca26"
             ],
             [
              1,
              "#f0f921"
             ]
            ],
            "type": "contour"
           }
          ],
          "contourcarpet": [
           {
            "colorbar": {
             "outlinewidth": 0,
             "ticks": ""
            },
            "type": "contourcarpet"
           }
          ],
          "heatmap": [
           {
            "colorbar": {
             "outlinewidth": 0,
             "ticks": ""
            },
            "colorscale": [
             [
              0,
              "#0d0887"
             ],
             [
              0.1111111111111111,
              "#46039f"
             ],
             [
              0.2222222222222222,
              "#7201a8"
             ],
             [
              0.3333333333333333,
              "#9c179e"
             ],
             [
              0.4444444444444444,
              "#bd3786"
             ],
             [
              0.5555555555555556,
              "#d8576b"
             ],
             [
              0.6666666666666666,
              "#ed7953"
             ],
             [
              0.7777777777777778,
              "#fb9f3a"
             ],
             [
              0.8888888888888888,
              "#fdca26"
             ],
             [
              1,
              "#f0f921"
             ]
            ],
            "type": "heatmap"
           }
          ],
          "histogram": [
           {
            "marker": {
             "pattern": {
              "fillmode": "overlay",
              "size": 10,
              "solidity": 0.2
             }
            },
            "type": "histogram"
           }
          ],
          "histogram2d": [
           {
            "colorbar": {
             "outlinewidth": 0,
             "ticks": ""
            },
            "colorscale": [
             [
              0,
              "#0d0887"
             ],
             [
              0.1111111111111111,
              "#46039f"
             ],
             [
              0.2222222222222222,
              "#7201a8"
             ],
             [
              0.3333333333333333,
              "#9c179e"
             ],
             [
              0.4444444444444444,
              "#bd3786"
             ],
             [
              0.5555555555555556,
              "#d8576b"
             ],
             [
              0.6666666666666666,
              "#ed7953"
             ],
             [
              0.7777777777777778,
              "#fb9f3a"
             ],
             [
              0.8888888888888888,
              "#fdca26"
             ],
             [
              1,
              "#f0f921"
             ]
            ],
            "type": "histogram2d"
           }
          ],
          "histogram2dcontour": [
           {
            "colorbar": {
             "outlinewidth": 0,
             "ticks": ""
            },
            "colorscale": [
             [
              0,
              "#0d0887"
             ],
             [
              0.1111111111111111,
              "#46039f"
             ],
             [
              0.2222222222222222,
              "#7201a8"
             ],
             [
              0.3333333333333333,
              "#9c179e"
             ],
             [
              0.4444444444444444,
              "#bd3786"
             ],
             [
              0.5555555555555556,
              "#d8576b"
             ],
             [
              0.6666666666666666,
              "#ed7953"
             ],
             [
              0.7777777777777778,
              "#fb9f3a"
             ],
             [
              0.8888888888888888,
              "#fdca26"
             ],
             [
              1,
              "#f0f921"
             ]
            ],
            "type": "histogram2dcontour"
           }
          ],
          "mesh3d": [
           {
            "colorbar": {
             "outlinewidth": 0,
             "ticks": ""
            },
            "type": "mesh3d"
           }
          ],
          "parcoords": [
           {
            "line": {
             "colorbar": {
              "outlinewidth": 0,
              "ticks": ""
             }
            },
            "type": "parcoords"
           }
          ],
          "pie": [
           {
            "automargin": true,
            "type": "pie"
           }
          ],
          "scatter": [
           {
            "fillpattern": {
             "fillmode": "overlay",
             "size": 10,
             "solidity": 0.2
            },
            "type": "scatter"
           }
          ],
          "scatter3d": [
           {
            "line": {
             "colorbar": {
              "outlinewidth": 0,
              "ticks": ""
             }
            },
            "marker": {
             "colorbar": {
              "outlinewidth": 0,
              "ticks": ""
             }
            },
            "type": "scatter3d"
           }
          ],
          "scattercarpet": [
           {
            "marker": {
             "colorbar": {
              "outlinewidth": 0,
              "ticks": ""
             }
            },
            "type": "scattercarpet"
           }
          ],
          "scattergeo": [
           {
            "marker": {
             "colorbar": {
              "outlinewidth": 0,
              "ticks": ""
             }
            },
            "type": "scattergeo"
           }
          ],
          "scattergl": [
           {
            "marker": {
             "colorbar": {
              "outlinewidth": 0,
              "ticks": ""
             }
            },
            "type": "scattergl"
           }
          ],
          "scattermap": [
           {
            "marker": {
             "colorbar": {
              "outlinewidth": 0,
              "ticks": ""
             }
            },
            "type": "scattermap"
           }
          ],
          "scattermapbox": [
           {
            "marker": {
             "colorbar": {
              "outlinewidth": 0,
              "ticks": ""
             }
            },
            "type": "scattermapbox"
           }
          ],
          "scatterpolar": [
           {
            "marker": {
             "colorbar": {
              "outlinewidth": 0,
              "ticks": ""
             }
            },
            "type": "scatterpolar"
           }
          ],
          "scatterpolargl": [
           {
            "marker": {
             "colorbar": {
              "outlinewidth": 0,
              "ticks": ""
             }
            },
            "type": "scatterpolargl"
           }
          ],
          "scatterternary": [
           {
            "marker": {
             "colorbar": {
              "outlinewidth": 0,
              "ticks": ""
             }
            },
            "type": "scatterternary"
           }
          ],
          "surface": [
           {
            "colorbar": {
             "outlinewidth": 0,
             "ticks": ""
            },
            "colorscale": [
             [
              0,
              "#0d0887"
             ],
             [
              0.1111111111111111,
              "#46039f"
             ],
             [
              0.2222222222222222,
              "#7201a8"
             ],
             [
              0.3333333333333333,
              "#9c179e"
             ],
             [
              0.4444444444444444,
              "#bd3786"
             ],
             [
              0.5555555555555556,
              "#d8576b"
             ],
             [
              0.6666666666666666,
              "#ed7953"
             ],
             [
              0.7777777777777778,
              "#fb9f3a"
             ],
             [
              0.8888888888888888,
              "#fdca26"
             ],
             [
              1,
              "#f0f921"
             ]
            ],
            "type": "surface"
           }
          ],
          "table": [
           {
            "cells": {
             "fill": {
              "color": "#EBF0F8"
             },
             "line": {
              "color": "white"
             }
            },
            "header": {
             "fill": {
              "color": "#C8D4E3"
             },
             "line": {
              "color": "white"
             }
            },
            "type": "table"
           }
          ]
         },
         "layout": {
          "annotationdefaults": {
           "arrowcolor": "#2a3f5f",
           "arrowhead": 0,
           "arrowwidth": 1
          },
          "autotypenumbers": "strict",
          "coloraxis": {
           "colorbar": {
            "outlinewidth": 0,
            "ticks": ""
           }
          },
          "colorscale": {
           "diverging": [
            [
             0,
             "#8e0152"
            ],
            [
             0.1,
             "#c51b7d"
            ],
            [
             0.2,
             "#de77ae"
            ],
            [
             0.3,
             "#f1b6da"
            ],
            [
             0.4,
             "#fde0ef"
            ],
            [
             0.5,
             "#f7f7f7"
            ],
            [
             0.6,
             "#e6f5d0"
            ],
            [
             0.7,
             "#b8e186"
            ],
            [
             0.8,
             "#7fbc41"
            ],
            [
             0.9,
             "#4d9221"
            ],
            [
             1,
             "#276419"
            ]
           ],
           "sequential": [
            [
             0,
             "#0d0887"
            ],
            [
             0.1111111111111111,
             "#46039f"
            ],
            [
             0.2222222222222222,
             "#7201a8"
            ],
            [
             0.3333333333333333,
             "#9c179e"
            ],
            [
             0.4444444444444444,
             "#bd3786"
            ],
            [
             0.5555555555555556,
             "#d8576b"
            ],
            [
             0.6666666666666666,
             "#ed7953"
            ],
            [
             0.7777777777777778,
             "#fb9f3a"
            ],
            [
             0.8888888888888888,
             "#fdca26"
            ],
            [
             1,
             "#f0f921"
            ]
           ],
           "sequentialminus": [
            [
             0,
             "#0d0887"
            ],
            [
             0.1111111111111111,
             "#46039f"
            ],
            [
             0.2222222222222222,
             "#7201a8"
            ],
            [
             0.3333333333333333,
             "#9c179e"
            ],
            [
             0.4444444444444444,
             "#bd3786"
            ],
            [
             0.5555555555555556,
             "#d8576b"
            ],
            [
             0.6666666666666666,
             "#ed7953"
            ],
            [
             0.7777777777777778,
             "#fb9f3a"
            ],
            [
             0.8888888888888888,
             "#fdca26"
            ],
            [
             1,
             "#f0f921"
            ]
           ]
          },
          "colorway": [
           "#636efa",
           "#EF553B",
           "#00cc96",
           "#ab63fa",
           "#FFA15A",
           "#19d3f3",
           "#FF6692",
           "#B6E880",
           "#FF97FF",
           "#FECB52"
          ],
          "font": {
           "color": "#2a3f5f"
          },
          "geo": {
           "bgcolor": "white",
           "lakecolor": "white",
           "landcolor": "#E5ECF6",
           "showlakes": true,
           "showland": true,
           "subunitcolor": "white"
          },
          "hoverlabel": {
           "align": "left"
          },
          "hovermode": "closest",
          "mapbox": {
           "style": "light"
          },
          "paper_bgcolor": "white",
          "plot_bgcolor": "#E5ECF6",
          "polar": {
           "angularaxis": {
            "gridcolor": "white",
            "linecolor": "white",
            "ticks": ""
           },
           "bgcolor": "#E5ECF6",
           "radialaxis": {
            "gridcolor": "white",
            "linecolor": "white",
            "ticks": ""
           }
          },
          "scene": {
           "xaxis": {
            "backgroundcolor": "#E5ECF6",
            "gridcolor": "white",
            "gridwidth": 2,
            "linecolor": "white",
            "showbackground": true,
            "ticks": "",
            "zerolinecolor": "white"
           },
           "yaxis": {
            "backgroundcolor": "#E5ECF6",
            "gridcolor": "white",
            "gridwidth": 2,
            "linecolor": "white",
            "showbackground": true,
            "ticks": "",
            "zerolinecolor": "white"
           },
           "zaxis": {
            "backgroundcolor": "#E5ECF6",
            "gridcolor": "white",
            "gridwidth": 2,
            "linecolor": "white",
            "showbackground": true,
            "ticks": "",
            "zerolinecolor": "white"
           }
          },
          "shapedefaults": {
           "line": {
            "color": "#2a3f5f"
           }
          },
          "ternary": {
           "aaxis": {
            "gridcolor": "white",
            "linecolor": "white",
            "ticks": ""
           },
           "baxis": {
            "gridcolor": "white",
            "linecolor": "white",
            "ticks": ""
           },
           "bgcolor": "#E5ECF6",
           "caxis": {
            "gridcolor": "white",
            "linecolor": "white",
            "ticks": ""
           }
          },
          "title": {
           "x": 0.05
          },
          "xaxis": {
           "automargin": true,
           "gridcolor": "white",
           "linecolor": "white",
           "ticks": "",
           "title": {
            "standoff": 15
           },
           "zerolinecolor": "white",
           "zerolinewidth": 2
          },
          "yaxis": {
           "automargin": true,
           "gridcolor": "white",
           "linecolor": "white",
           "ticks": "",
           "title": {
            "standoff": 15
           },
           "zerolinecolor": "white",
           "zerolinewidth": 2
          }
         }
        },
        "title": {
         "text": "Feature Stability Plots"
        },
        "width": 1600,
        "xaxis": {
         "anchor": "y",
         "domain": [
          0,
          0.2888888888888889
         ],
         "tickangle": 90
        },
        "xaxis2": {
         "anchor": "y2",
         "domain": [
          0.35555555555555557,
          0.6444444444444445
         ],
         "tickangle": 90
        },
        "xaxis3": {
         "anchor": "y3",
         "domain": [
          0.7111111111111111,
          1
         ],
         "tickangle": 90
        },
        "yaxis": {
         "anchor": "x",
         "domain": [
          0,
          1
         ],
         "title": {
          "text": "Proportion"
         }
        },
        "yaxis2": {
         "anchor": "x2",
         "domain": [
          0,
          1
         ],
         "title": {
          "text": "Proportion"
         }
        },
        "yaxis3": {
         "anchor": "x3",
         "domain": [
          0,
          1
         ],
         "title": {
          "text": "Proportion"
         }
        }
       }
      }
     },
     "metadata": {},
     "output_type": "display_data"
    }
   ],
   "source": [
    "fig = plot_feature_stability(df, feature_names[:3])\n",
    "fig.show()"
   ]
  }
 ],
 "metadata": {
  "kernelspec": {
   "display_name": ".venv",
   "language": "python",
   "name": "python3"
  },
  "language_info": {
   "codemirror_mode": {
    "name": "ipython",
    "version": 3
   },
   "file_extension": ".py",
   "mimetype": "text/x-python",
   "name": "python",
   "nbconvert_exporter": "python",
   "pygments_lexer": "ipython3",
   "version": "3.11.5"
  }
 },
 "nbformat": 4,
 "nbformat_minor": 2
}
